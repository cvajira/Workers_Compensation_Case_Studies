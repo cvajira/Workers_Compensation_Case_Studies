{
  "nbformat": 4,
  "nbformat_minor": 0,
  "metadata": {
    "colab": {
      "provenance": []
    },
    "kernelspec": {
      "name": "python3",
      "display_name": "Python 3"
    },
    "language_info": {
      "name": "python"
    }
  },
  "cells": [
    {
      "cell_type": "code",
      "source": [
        "#mount google drive\n",
        "from google.colab import drive\n",
        "drive.mount('/content/drive')\n"
      ],
      "metadata": {
        "id": "j_hslsjvX8bq"
      },
      "execution_count": null,
      "outputs": []
    },
    {
      "cell_type": "code",
      "source": [
        "import pandas as pd\n",
        "import numpy as np"
      ],
      "metadata": {
        "id": "KLLti0YVYB_i"
      },
      "execution_count": null,
      "outputs": []
    },
    {
      "cell_type": "code",
      "source": [
        "INPUT_EXCEL_FILE1 =\"/content/drive/MyDrive/worker_comp_work/WC_Final/research_ready_facts_AI.xlsx\"\n",
        "OUTPUT_EXCEL_FILE1 =\"/content/drive/MyDrive/worker_comp_work/WC_Final/research_ready_facts_AI_sampled.xlsx\"\n",
        "\n",
        "INPUT_EXCEL_FILE2 =\"/content/drive/MyDrive/worker_comp_work/WC_Final/research_ready_issues_AI.xlsx\"\n",
        "OUTPUT_EXCEL_FILE2 =\"/content/drive/MyDrive/worker_comp_work/WC_Final/research_ready_issues_AI_sampled.xlsx\""
      ],
      "metadata": {
        "id": "jPGlOtCiYD8a"
      },
      "execution_count": null,
      "outputs": []
    },
    {
      "cell_type": "code",
      "execution_count": null,
      "metadata": {
        "id": "CNLkYsBaXUiw"
      },
      "outputs": [],
      "source": [
        "\n",
        "\n",
        "def sample_excel_data_by_case_id_reproducible(file_path, case_id_column, sample_percentage, output_file_name, random_seed=None):\n",
        "    \"\"\"\n",
        "    Loads an Excel file, samples a percentage of unique \"Case ID\"s reproducibly,\n",
        "    saves the sampled data to a new Excel file, and returns the DataFrame.\n",
        "\n",
        "    Args:\n",
        "        file_path (str): The path to the input Excel file.\n",
        "        case_id_column (str): The name of the column containing the Case IDs.\n",
        "        sample_percentage (float): The percentage of unique Case IDs to sample (e.g., 0.20 for 20%).\n",
        "        output_file_name (str): The name of the Excel file to save the sampled data to.\n",
        "        random_seed (int, optional): A seed for the random number generator to ensure reproducibility.\n",
        "                                      If None, the sampling will not be reproducible.\n",
        "\n",
        "    Returns:\n",
        "        pandas.DataFrame: A DataFrame containing the sampled data.\n",
        "    \"\"\"\n",
        "    try:\n",
        "        df = pd.read_excel(file_path)\n",
        "    except FileNotFoundError:\n",
        "        print(f\"Error: The file '{file_path}' was not found.\")\n",
        "        return None\n",
        "    except Exception as e:\n",
        "        print(f\"An error occurred while reading the Excel file: {e}\")\n",
        "        return None\n",
        "\n",
        "    # Set the random seed for reproducibility\n",
        "    if random_seed is not None:\n",
        "        np.random.seed(random_seed)\n",
        "\n",
        "    unique_case_ids = df[case_id_column].unique()\n",
        "    num_to_sample = int(len(unique_case_ids) * sample_percentage)\n",
        "\n",
        "    # Ensure we don't sample more than available unique IDs\n",
        "    if num_to_sample == 0 and len(unique_case_ids) > 0:\n",
        "        num_to_sample = 1 # Sample at least one if there are unique IDs\n",
        "\n",
        "    sampled_case_ids = np.random.choice(unique_case_ids, num_to_sample, replace=False)\n",
        "\n",
        "    sampled_df = df[df[case_id_column].isin(sampled_case_ids)]\n",
        "\n",
        "    # Save the sampled data to the specified Excel file\n",
        "    try:\n",
        "        sampled_df.to_excel(output_file_name, index=False)\n",
        "        print(f\"\\nSampled data successfully saved to '{output_file_name}'\")\n",
        "    except Exception as e:\n",
        "        print(f\"An error occurred while saving the Excel file: {e}\")\n",
        "\n",
        "    return sampled_df"
      ]
    },
    {
      "cell_type": "code",
      "source": [
        "# --- How to use the function ---\n",
        "input_file_name = INPUT_EXCEL_FILE1  # Your input Excel file\n",
        "case_id_col = \"Case ID\"  # The column with Case IDs\n",
        "sampling_rate = 0.20  # 20%\n",
        "output_excel_name = OUTPUT_EXCEL_FILE1 # Name for the output file\n",
        "reproducible_seed = 42 # Keep this for reproducible results\n",
        "\n",
        "sampled_data = sample_excel_data_by_case_id_reproducible(\n",
        "    input_file_name,\n",
        "    case_id_col,\n",
        "    sampling_rate,\n",
        "    output_excel_name, # Pass the output file name\n",
        "    random_seed=reproducible_seed\n",
        ")\n",
        "\n",
        "if sampled_data is not None:\n",
        "    print(f\"Original data shape: {pd.read_excel(input_file_name).shape}\")\n",
        "    print(f\"Sampled data shape: {sampled_data.shape}\")\n",
        "    print(f\"\\nFirst 5 rows of sampled data:\\n{sampled_data.head()}\")"
      ],
      "metadata": {
        "id": "6iyTPlSHX7Hq"
      },
      "execution_count": null,
      "outputs": []
    },
    {
      "cell_type": "code",
      "source": [
        "# --- How to use the function ---\n",
        "input_file_name = INPUT_EXCEL_FILE2  # Your input Excel file\n",
        "case_id_col = \"Case ID\"  # The column with Case IDs\n",
        "sampling_rate = 0.20  # 20%\n",
        "output_excel_name = OUTPUT_EXCEL_FILE2 # Name for the output file\n",
        "reproducible_seed = 42 # Keep this for reproducible results\n",
        "\n",
        "sampled_data = sample_excel_data_by_case_id_reproducible(\n",
        "    input_file_name,\n",
        "    case_id_col,\n",
        "    sampling_rate,\n",
        "    output_excel_name, # Pass the output file name\n",
        "    random_seed=reproducible_seed\n",
        ")\n",
        "\n",
        "if sampled_data is not None:\n",
        "    print(f\"Original data shape: {pd.read_excel(input_file_name).shape}\")\n",
        "    print(f\"Sampled data shape: {sampled_data.shape}\")\n",
        "    print(f\"\\nFirst 5 rows of sampled data:\\n{sampled_data.head()}\")"
      ],
      "metadata": {
        "id": "MqiN3c-xYjWM"
      },
      "execution_count": null,
      "outputs": []
    }
  ]
}