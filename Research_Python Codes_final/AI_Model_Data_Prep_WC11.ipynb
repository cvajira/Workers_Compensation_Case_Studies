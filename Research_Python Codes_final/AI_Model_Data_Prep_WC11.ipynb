{
  "nbformat": 4,
  "nbformat_minor": 0,
  "metadata": {
    "colab": {
      "provenance": []
    },
    "kernelspec": {
      "name": "python3",
      "display_name": "Python 3"
    },
    "language_info": {
      "name": "python"
    }
  },
  "cells": [
    {
      "cell_type": "code",
      "execution_count": null,
      "metadata": {
        "id": "Ln1rsQ6-gJf6"
      },
      "outputs": [],
      "source": [
        "#mount the drive\n",
        "from google.colab import drive\n",
        "drive.mount('/content/drive')"
      ]
    },
    {
      "cell_type": "code",
      "source": [
        "import pandas as pd\n",
        "import numpy as np"
      ],
      "metadata": {
        "id": "ad-ksIgvgiS9"
      },
      "execution_count": null,
      "outputs": []
    },
    {
      "cell_type": "code",
      "source": [
        "INPUT_EXCEL_FILE =\"/content/drive/MyDrive/worker_comp_work/WC_Final/research_ready3.xlsx\"\n",
        "Output_EXCEL_FILE1 =\"/content/drive/MyDrive/worker_comp_work/WC_Final/research_ready_issues_AI.xlsx\"\n",
        "Output_EXCEL_FILE2 =\"/content/drive/MyDrive/worker_comp_work/WC_Final/research_ready_facts_AI.xlsx\""
      ],
      "metadata": {
        "id": "_xdTCScfgTxP"
      },
      "execution_count": null,
      "outputs": []
    },
    {
      "cell_type": "code",
      "source": [
        "df = pd.read_excel(INPUT_EXCEL_FILE)"
      ],
      "metadata": {
        "id": "p1-PdmIkglaF"
      },
      "execution_count": null,
      "outputs": []
    },
    {
      "cell_type": "code",
      "source": [
        "df.columns"
      ],
      "metadata": {
        "id": "9DmLC0Kigoze"
      },
      "execution_count": null,
      "outputs": []
    },
    {
      "cell_type": "code",
      "source": [
        "df['Decision'].unique()"
      ],
      "metadata": {
        "id": "GJc5uE_3hyCZ"
      },
      "execution_count": null,
      "outputs": []
    },
    {
      "cell_type": "code",
      "source": [
        "#drop cases with Decision equal to 2\n",
        "df = df[df['Decision'] != 2]"
      ],
      "metadata": {
        "id": "ZJ0w8RUGiALZ"
      },
      "execution_count": null,
      "outputs": []
    },
    {
      "cell_type": "code",
      "source": [
        "#create a data set df_issues by keeping only 'Case ID','Annonymized_Issues','Decision',\n",
        "df_issues = df[['Case ID','Annonymized_Issues','Decision']]"
      ],
      "metadata": {
        "id": "biwIzWVkiFga"
      },
      "execution_count": null,
      "outputs": []
    },
    {
      "cell_type": "code",
      "source": [
        "#drop any nan or blank rows in \"'Annonymized_Issues'\"\n",
        "df_issues = df_issues.dropna(subset=['Annonymized_Issues'])\n",
        "#drop blanks\n",
        "df_issues = df_issues[df_issues['Annonymized_Issues'] != '']"
      ],
      "metadata": {
        "id": "sz_J3jm8iXhJ"
      },
      "execution_count": null,
      "outputs": []
    },
    {
      "cell_type": "code",
      "source": [
        "df_issues.shape\n",
        "#should be 6103"
      ],
      "metadata": {
        "id": "1XcOgn6aikzj"
      },
      "execution_count": null,
      "outputs": []
    },
    {
      "cell_type": "code",
      "source": [
        "#write it into excel file Output_EXCEL_FILE\n",
        "df_issues.to_excel(Output_EXCEL_FILE1, index=False)"
      ],
      "metadata": {
        "id": "up1i8ktViper"
      },
      "execution_count": null,
      "outputs": []
    },
    {
      "cell_type": "code",
      "source": [
        "# create a data set df_facts by keeping only 'Case ID','Annonymized_Facts','Decision',\n",
        "df_facts = df[['Case ID','Annonymized_Facts','Decision']]"
      ],
      "metadata": {
        "id": "0pSZuKq8hlvU"
      },
      "execution_count": null,
      "outputs": []
    },
    {
      "cell_type": "code",
      "source": [
        "#drop any nan\n",
        "df_facts = df_facts.dropna(subset=['Annonymized_Facts'])\n",
        "#drop blanks\n",
        "df_facts = df_facts[df_facts['Annonymized_Facts'] != '']"
      ],
      "metadata": {
        "id": "STfFAL2cjLF3"
      },
      "execution_count": null,
      "outputs": []
    },
    {
      "cell_type": "code",
      "source": [
        "df_facts.shape\n",
        "#should be 14225"
      ],
      "metadata": {
        "id": "5cmr2skPjQmq"
      },
      "execution_count": null,
      "outputs": []
    },
    {
      "cell_type": "code",
      "source": [
        "#write into Output_EXCEL_FILE2\n",
        "df_facts.to_excel(Output_EXCEL_FILE2, index=False)"
      ],
      "metadata": {
        "id": "M8z9rH0jjYaG"
      },
      "execution_count": null,
      "outputs": []
    }
  ]
}