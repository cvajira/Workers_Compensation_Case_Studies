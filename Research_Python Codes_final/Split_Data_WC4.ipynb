{
  "nbformat": 4,
  "nbformat_minor": 0,
  "metadata": {
    "colab": {
      "provenance": []
    },
    "kernelspec": {
      "name": "python3",
      "display_name": "Python 3"
    },
    "language_info": {
      "name": "python"
    }
  },
  "cells": [
    {
      "cell_type": "code",
      "execution_count": null,
      "metadata": {
        "id": "_anJjuAjxFFB"
      },
      "outputs": [],
      "source": [
        "# In this code, we convert preprocessed issues and finding of facts to numeric vectors using TF-IDF method and then use RF, GB, XGB methods to classify"
      ]
    },
    {
      "cell_type": "code",
      "source": [
        "#mount google drive\n",
        "from google.colab import drive\n",
        "drive.mount('/content/drive')"
      ],
      "metadata": {
        "id": "GV5vhu9gzFCl"
      },
      "execution_count": null,
      "outputs": []
    },
    {
      "cell_type": "code",
      "source": [
        "INPUT_EXCEL_FILE =\"/content/drive/MyDrive/worker_comp_work/WC_Final/research_ready4.xlsx\"\n",
        "OUTPUT_EXCEL_FILE1 = \"/content/drive/MyDrive/worker_comp_work/WC_Final/research_ready_Issues_train.xlsx\"\n",
        "OUTPUT_EXCEL_FILE2 = \"/content/drive/MyDrive/worker_comp_work/WC_Final/research_ready_Issues_test.xlsx\"\n",
        "OUTPUT_EXCEL_FILE3 = \"/content/drive/MyDrive/worker_comp_work/WC_Final/research_ready_Facts_train.xlsx\"\n",
        "OUTPUT_EXCEL_FILE4 = \"/content/drive/MyDrive/worker_comp_work/WC_Final/research_ready_Facts_test.xlsx\""
      ],
      "metadata": {
        "id": "NXTL57Hhxi-m"
      },
      "execution_count": null,
      "outputs": []
    },
    {
      "cell_type": "code",
      "source": [
        "import pandas as pd\n",
        "from sklearn.model_selection import train_test_split"
      ],
      "metadata": {
        "id": "fgz0xJhay_is"
      },
      "execution_count": null,
      "outputs": []
    },
    {
      "cell_type": "code",
      "source": [
        "df=pd.read_excel(INPUT_EXCEL_FILE)"
      ],
      "metadata": {
        "id": "6FHA2H99zZNC"
      },
      "execution_count": null,
      "outputs": []
    },
    {
      "cell_type": "code",
      "source": [
        "df.columns"
      ],
      "metadata": {
        "id": "fu50rtSCzgnV"
      },
      "execution_count": null,
      "outputs": []
    },
    {
      "cell_type": "code",
      "source": [
        "# create df_issues, which contains only 'Case ID',  'Preprocesses_Issues',  'Decision',\n",
        "df_issues = df[['Case ID', 'Preprocesses_Issues', 'Decision']]"
      ],
      "metadata": {
        "id": "lRNd1x-UzjMn"
      },
      "execution_count": null,
      "outputs": []
    },
    {
      "cell_type": "code",
      "source": [
        "# drop decisions which are 2\n",
        "df_issues = df_issues[df_issues['Decision'] != 2]"
      ],
      "metadata": {
        "id": "Amdsaenqz36_"
      },
      "execution_count": null,
      "outputs": []
    },
    {
      "cell_type": "code",
      "source": [
        "# size of the data frame\n",
        "df_issues.shape\n",
        "#should be 14544"
      ],
      "metadata": {
        "id": "NQ22qTfW0MXF"
      },
      "execution_count": null,
      "outputs": []
    },
    {
      "cell_type": "code",
      "source": [
        "#drop rows where 'Preprocesses_Issues' is \"\" or blank or nan\n",
        "df_issues = df_issues.dropna(subset=['Preprocesses_Issues'])\n",
        "df_issues = df_issues[df_issues['Preprocesses_Issues'] != \"\"]"
      ],
      "metadata": {
        "id": "g5ii3_-L0aIN"
      },
      "execution_count": null,
      "outputs": []
    },
    {
      "cell_type": "code",
      "source": [
        "df_issues.shape\n",
        "#should be 6103"
      ],
      "metadata": {
        "id": "5J7IFiYW0kn-"
      },
      "execution_count": null,
      "outputs": []
    },
    {
      "cell_type": "code",
      "source": [
        "#split the df_issues into train and test\n",
        "# make sure to use Decision as stratifying varaible\n",
        "df_issues_train, df_issues_test = train_test_split(df_issues, test_size=0.2, random_state=42, stratify=df_issues['Decision'])"
      ],
      "metadata": {
        "id": "-zYX6-Ps1Nwq"
      },
      "execution_count": null,
      "outputs": []
    },
    {
      "cell_type": "code",
      "source": [
        "#save into excel file\n",
        "df_issues_train.to_excel(OUTPUT_EXCEL_FILE1, index=False)\n",
        "df_issues_test.to_excel(OUTPUT_EXCEL_FILE2, index=False)\n"
      ],
      "metadata": {
        "id": "5jI8foUb1tsx"
      },
      "execution_count": null,
      "outputs": []
    },
    {
      "cell_type": "code",
      "source": [
        "df_facts = df[['Case ID', 'Preprocessed_Facts', 'Decision']]"
      ],
      "metadata": {
        "id": "M59UPssL16nJ"
      },
      "execution_count": null,
      "outputs": []
    },
    {
      "cell_type": "code",
      "source": [
        "# drop decisions which are 2\n",
        "df_facts = df_facts[df_facts['Decision'] != 2]"
      ],
      "metadata": {
        "id": "RvNxjtbT2MOD"
      },
      "execution_count": null,
      "outputs": []
    },
    {
      "cell_type": "code",
      "source": [
        "df_facts.shape\n",
        "#should be 14544"
      ],
      "metadata": {
        "id": "bwC384Qe2S44"
      },
      "execution_count": null,
      "outputs": []
    },
    {
      "cell_type": "code",
      "source": [
        "#drop rows where 'Preprocessed_Facts' is \"\" or blank or nan\n",
        "df_facts = df_facts.dropna(subset=['Preprocessed_Facts'])\n",
        "df_facts = df_facts[df_facts['Preprocessed_Facts'] != \"\"]"
      ],
      "metadata": {
        "id": "7AMC7N_s2baI"
      },
      "execution_count": null,
      "outputs": []
    },
    {
      "cell_type": "code",
      "source": [
        "df_facts.shape\n",
        "#should be 14,225"
      ],
      "metadata": {
        "id": "rsOrjux52xC4"
      },
      "execution_count": null,
      "outputs": []
    },
    {
      "cell_type": "code",
      "source": [
        "#split the df_facts into train and test\n",
        "df_facts_train, df_facts_test = train_test_split(df_facts, test_size=0.2, random_state=42,stratify=df_facts['Decision'])"
      ],
      "metadata": {
        "id": "bk5hd86J3Zuu"
      },
      "execution_count": null,
      "outputs": []
    },
    {
      "cell_type": "code",
      "source": [
        "#save into excel file\n",
        "df_facts_train.to_excel(OUTPUT_EXCEL_FILE3, index=False)\n",
        "df_facts_test.to_excel(OUTPUT_EXCEL_FILE4, index=False)"
      ],
      "metadata": {
        "id": "yLVdncJa3oAz"
      },
      "execution_count": null,
      "outputs": []
    }
  ]
}